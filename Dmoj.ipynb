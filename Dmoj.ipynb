{
  "nbformat": 4,
  "nbformat_minor": 0,
  "metadata": {
    "colab": {
      "name": "Dmoj.ipynb",
      "provenance": [],
      "authorship_tag": "ABX9TyN9o76fHgJ1cJKhRgmJFaFV",
      "include_colab_link": true
    },
    "kernelspec": {
      "name": "python3",
      "display_name": "Python 3"
    },
    "language_info": {
      "name": "python"
    }
  },
  "cells": [
    {
      "cell_type": "markdown",
      "metadata": {
        "id": "view-in-github",
        "colab_type": "text"
      },
      "source": [
        "<a href=\"https://colab.research.google.com/github/ALt210/cudly-spork/blob/main/Dmoj.ipynb\" target=\"_parent\"><img src=\"https://colab.research.google.com/assets/colab-badge.svg\" alt=\"Open In Colab\"/></a>"
      ]
    },
    {
      "cell_type": "code",
      "execution_count": 4,
      "metadata": {
        "colab": {
          "base_uri": "https://localhost:8080/"
        },
        "id": "btzxuB8O4tvc",
        "outputId": "c44f4b2f-5c4d-4905-80d1-8094f87909bd"
      },
      "outputs": [
        {
          "output_type": "stream",
          "name": "stdout",
          "text": [
            "5\n",
            "10\n",
            "0\n",
            "6\n",
            "5\n",
            "6\n",
            "0.5\n"
          ]
        }
      ],
      "source": [
        "N = int(input())\n",
        "\n",
        "villages = list()\n",
        "\n",
        "for i in range(N):\n",
        "  villages.append1(float(input()))\n",
        "\n",
        "\n",
        "distance = list()\n",
        "\n",
        "villages.sort()\n",
        "\n",
        "\n",
        "for i in range(1, N-1):\n",
        "  distance.append( (villages[i + 1] - villages[i]) / 2 + (villages[i] - villages[i - 1]) / 2)\n",
        "\n",
        "distance.sort()\n",
        "\n",
        "print(distance[0])\n",
        "\n"
      ]
    }
  ]
}